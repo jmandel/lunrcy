{
 "metadata": {
  "name": "",
  "signature": "sha256:68da6265a1606559614075410b7df7b915b5822f105bf043086bf60f24e32279"
 },
 "nbformat": 3,
 "nbformat_minor": 0,
 "worksheets": [
  {
   "cells": [
    {
     "cell_type": "code",
     "collapsed": false,
     "input": [
      "import glob\n",
      "from lxml import etree\n",
      "import re\n",
      "from StringIO import StringIO\n",
      "\n",
      "files = glob.glob('./**/*.html')\n",
      "files = filter(lambda x: \"example\" not in x, files)\n",
      "files = filter(lambda x: \".json.html\" not in x, files)\n",
      "files = filter(lambda x: \".xml.html\" not in x, files)"
     ],
     "language": "python",
     "metadata": {},
     "outputs": [],
     "prompt_number": 36
    },
    {
     "cell_type": "code",
     "collapsed": false,
     "input": [
      "len(files)"
     ],
     "language": "python",
     "metadata": {},
     "outputs": [
      {
       "metadata": {},
       "output_type": "pyout",
       "prompt_number": 38,
       "text": [
        "2367"
       ]
      }
     ],
     "prompt_number": 38
    },
    {
     "cell_type": "code",
     "collapsed": false,
     "input": [
      "files[500]"
     ],
     "language": "python",
     "metadata": {},
     "outputs": [
      {
       "metadata": {},
       "output_type": "pyout",
       "prompt_number": 37,
       "text": [
        "'./site/enrollmentresponse-profiles.html'"
       ]
      }
     ],
     "prompt_number": 37
    },
    {
     "cell_type": "code",
     "collapsed": false,
     "input": [
      "filter(lambda x: \"medication.html\" in x, files)"
     ],
     "language": "python",
     "metadata": {},
     "outputs": [
      {
       "metadata": {},
       "output_type": "pyout",
       "prompt_number": 15,
       "text": [
        "['./site/medication-qicore-qicore-medication.html',\n",
        " './site/allergyintolerance-medication.html',\n",
        " './site/medication-daf-dafmedication.html',\n",
        " './site/medication.html']"
       ]
      }
     ],
     "prompt_number": 15
    },
    {
     "cell_type": "code",
     "collapsed": false,
     "input": [
      "f = './site/medication.html'\n",
      "\n",
      "def nodes(at):\n",
      "    yield at\n",
      "    for c in at.iterchildren():\n",
      "        for v in nodes(c):\n",
      "            yield v\n",
      "\n",
      "def matches(root, section_predicate, node_predicate):\n",
      "    found = None\n",
      "    for n in nodes(root):\n",
      "        if section_predicate(n): found = n\n",
      "        if node_predicate(n): yield (found, n)\n",
      "\n",
      "def text(e):\n",
      "    if e:\n",
      "        ret = \" \".join(e.xpath(\".//text()\"))\n",
      "        return re.sub(\"\\s+\", \" \", ret)\n",
      "    return \"\"\n",
      "\n",
      "def process_file(f):\n",
      "    url = f.split(\"/\")[-1]\n",
      "    docs = {}\n",
      "    doc = docs[url] = {'url': url, 'text': \"\"}\n",
      "    f = open(f).read().replace(\"&nbsp;\", \"\")\n",
      "    mydoc = etree.parse(StringIO(f))\n",
      "\n",
      "    for e in mydoc.xpath('//title'):\n",
      "        doc['title'] =  text(e)\n",
      "\n",
      "\n",
      "\n",
      "    for (section, elt) in matches(\n",
      "        mydoc.getroot(),\n",
      "        lambda x: x.tag == 'span' and \"class\" in x.attrib and \"sectioncount\" in x.attrib[\"class\"],\n",
      "        lambda x: x.tag in [\"ul\", \"h1\", \"h2\", \"h3\", \"p\", \"table\"]):\n",
      "        if not section:\n",
      "            doc['text'] += text(elt)\n",
      "        else:\n",
      "            if section.text not in docs:\n",
      "                docs[section.text] = {\n",
      "                    'url': \"%s#%s\"%(url, section.text),\n",
      "                    'title': text(elt.getprevious()),\n",
      "                    'text': \"\"}\n",
      "            docs[section.text]['text'] += text(elt)\n",
      "            \n",
      "    return docs.values()\n",
      "\n",
      "skipped = []\n",
      "alldocs = []\n",
      "for i, f in enumerate(files):\n",
      "    try:\n",
      "        alldocs += process_file(f)\n",
      "    except:\n",
      "        skipped += [f]\n",
      "    if i%100 == 0: print i\n",
      "\n"
     ],
     "language": "python",
     "metadata": {},
     "outputs": [
      {
       "output_type": "stream",
       "stream": "stdout",
       "text": [
        "0\n",
        "100"
       ]
      },
      {
       "output_type": "stream",
       "stream": "stdout",
       "text": [
        "\n",
        "200"
       ]
      },
      {
       "output_type": "stream",
       "stream": "stdout",
       "text": [
        "\n",
        "300"
       ]
      },
      {
       "output_type": "stream",
       "stream": "stdout",
       "text": [
        "\n",
        "400"
       ]
      },
      {
       "output_type": "stream",
       "stream": "stdout",
       "text": [
        "\n",
        "500"
       ]
      },
      {
       "output_type": "stream",
       "stream": "stdout",
       "text": [
        "\n",
        "600"
       ]
      },
      {
       "output_type": "stream",
       "stream": "stdout",
       "text": [
        "\n",
        "700"
       ]
      },
      {
       "output_type": "stream",
       "stream": "stdout",
       "text": [
        "\n",
        "800"
       ]
      },
      {
       "output_type": "stream",
       "stream": "stdout",
       "text": [
        "\n",
        "900"
       ]
      },
      {
       "output_type": "stream",
       "stream": "stdout",
       "text": [
        "\n",
        "1000"
       ]
      },
      {
       "output_type": "stream",
       "stream": "stdout",
       "text": [
        "\n",
        "1100"
       ]
      },
      {
       "output_type": "stream",
       "stream": "stdout",
       "text": [
        "\n",
        "1200"
       ]
      },
      {
       "output_type": "stream",
       "stream": "stdout",
       "text": [
        "\n",
        "1300"
       ]
      },
      {
       "output_type": "stream",
       "stream": "stdout",
       "text": [
        "\n",
        "1400"
       ]
      },
      {
       "output_type": "stream",
       "stream": "stdout",
       "text": [
        "\n",
        "1500"
       ]
      },
      {
       "output_type": "stream",
       "stream": "stdout",
       "text": [
        "\n",
        "1600"
       ]
      },
      {
       "output_type": "stream",
       "stream": "stdout",
       "text": [
        "\n",
        "1700"
       ]
      },
      {
       "output_type": "stream",
       "stream": "stdout",
       "text": [
        "\n",
        "1800"
       ]
      },
      {
       "output_type": "stream",
       "stream": "stdout",
       "text": [
        "\n",
        "1900"
       ]
      },
      {
       "output_type": "stream",
       "stream": "stdout",
       "text": [
        "\n",
        "2000"
       ]
      },
      {
       "output_type": "stream",
       "stream": "stdout",
       "text": [
        "\n",
        "2100"
       ]
      },
      {
       "output_type": "stream",
       "stream": "stdout",
       "text": [
        "\n",
        "2200"
       ]
      },
      {
       "output_type": "stream",
       "stream": "stdout",
       "text": [
        "\n",
        "2300"
       ]
      },
      {
       "output_type": "stream",
       "stream": "stdout",
       "text": [
        "\n"
       ]
      }
     ],
     "prompt_number": 49
    },
    {
     "cell_type": "code",
     "collapsed": false,
     "input": [
      "import json\n",
      "js_str = json.dumps(alldocs, ofile)\n",
      "\n",
      "with open(\"alldocs.json\", \"w\") as ofile:\n",
      "    print >>ofile, js_str\n",
      "with open(\"alldocs.js\", \"w\") as ofile:\n",
      "    print >>ofile, \"var alldocs = %s\"%js_str"
     ],
     "language": "python",
     "metadata": {},
     "outputs": [],
     "prompt_number": 57
    },
    {
     "cell_type": "code",
     "collapsed": false,
     "input": [
      "p = mydoc.xpath('//h2')[2]\n",
      "print nearestBefore(p, lambda x: x.tag == 'span' and \"class\" in x.attrib and \"sectioncount\" in x.attrib[\"class\"])"
     ],
     "language": "python",
     "metadata": {},
     "outputs": [
      {
       "output_type": "stream",
       "stream": "stdout",
       "text": [
        "<Element span at 0x7f97a9fda758>\n"
       ]
      }
     ],
     "prompt_number": 167
    },
    {
     "cell_type": "code",
     "collapsed": false,
     "input": [
      "[x.attrib for x in mydoc.xpath('//a')]"
     ],
     "language": "python",
     "metadata": {},
     "outputs": [
      {
       "metadata": {},
       "output_type": "pyout",
       "prompt_number": 159,
       "text": [
        "[{'href': 'http://hl7.org/fhir', 'id': 'logo'},\n",
        " {'href': 'http://www.hl7.org', 'id': 'hl7-logo'},\n",
        " {'href': 'index.html', 'class': 'navbar-brand hidden'},\n",
        " {'href': 'index.html'},\n",
        " {'href': 'documentation.html'},\n",
        " {'href': 'implementation.html'},\n",
        " {'href': 'resourcelist.html'},\n",
        " {'href': 'clinical.html'},\n",
        " {'href': 'administration.html'},\n",
        " {'href': 'infrastructure.html'},\n",
        " {'href': 'financial.html'},\n",
        " {'href': 'index.html'},\n",
        " {'href': 'documentation.html'},\n",
        " {'href': '#'},\n",
        " {'href': 'medication-examples.html'},\n",
        " {'href': 'medication-definitions.html'},\n",
        " {'href': 'medication-mappings.html'},\n",
        " {'href': 'medication-profiles.html'},\n",
        " {'name': '4.12'},\n",
        " {'href': 'medication.html#4.12', 'class': 'self-link', 'title': 'link to here'},\n",
        " {'href': 'http://www.hl7.org/Special/committees/medication/index.cfm', '_target': 'blank'},\n",
        " {'name': '4.12.1'},\n",
        " {'href': 'medication.html#4.12.1', 'class': 'self-link', 'title': 'link to here'},\n",
        " {'href': 'careplan.html'},\n",
        " {'href': 'group.html'},\n",
        " {'href': 'medicationadministration.html'},\n",
        " {'href': 'medicationdispense.html'},\n",
        " {'href': 'medicationprescription.html'},\n",
        " {'href': 'medicationstatement.html'},\n",
        " {'href': 'procedure.html'},\n",
        " {'href': 'supply.html'},\n",
        " {'name': 'resource'},\n",
        " {'name': '4.12.2'},\n",
        " {'href': 'medication.html#4.12.2', 'class': 'self-link', 'title': 'link to here'},\n",
        " {'name': 'def'},\n",
        " {'name': 'medication'},\n",
        " {'name': 'Medication'},\n",
        " {'href': '#tabs-struc'},\n",
        " {'href': '#tabs-uml'},\n",
        " {'href': '#tabs-xml'},\n",
        " {'href': '#tabs-json'},\n",
        " {'href': '#tabs-all'},\n",
        " {'href': 'formats.html#table', 'title': 'The logical name of the element'},\n",
        " {'href': 'formats.html#table', 'title': 'Information about the use of the element'},\n",
        " {'href': 'formats.html#table', 'title': 'Minimum and Maximum # of times the the element can appear in the instance'},\n",
        " {'href': 'formats.html#table', 'title': 'Reference to the type of the element'},\n",
        " {'href': 'formats.html#table', 'title': 'Additional information about the element'},\n",
        " {'href': 'formats.html#table', 'title': 'Legend for this format'},\n",
        " {'href': 'medication-definitions.html#Medication', 'title': 'Medication : Primarily used for identification and definition of Medication, but also covers ingredients and packaging.'},\n",
        " {'name': 'Medication'},\n",
        " {'href': 'domainresource.html'},\n",
        " {'href': 'medication-definitions.html#Medication.name', 'title': 'Medication.name : The common/commercial name of the medication absent information such as strength, form, etc.  E.g. Acetaminophen, Tylenol 3, etc.  The fully coordinated name is communicated as the display of Medication.code.'},\n",
        " {'name': 'Medication.name'},\n",
        " {'href': 'datatypes.html#string'},\n",
        " {'href': 'medication-definitions.html#Medication.code', 'title': 'Medication.code : A code (or set of codes) that identify this medication.   Usage note: This could be a standard drug code such as a drug regulator code, RxNorm code, SNOMED CT code, etc. It could also be a local formulary code, optionally with translations to the standard drug codes.'},\n",
        " {'name': 'Medication.code'},\n",
        " {'href': 'datatypes.html#CodeableConcept'},\n",
        " {'href': 'valueset-medication-codes.html', 'title': 'A code that defines the type of a medication'},\n",
        " {'href': 'terminologies.html#example', 'title': 'Instances are not expected or even encouraged to draw from the specified value set.  The value set merely provides examples of the types of concepts intended to be included.'},\n",
        " {'href': 'medication-definitions.html#Medication.isBrand', 'title': \"Medication.isBrand : Set to true if the item is attributable to a specific manufacturer (even if we don't know who that is).\"},\n",
        " {'name': 'Medication.isBrand'},\n",
        " {'href': 'datatypes.html#boolean'},\n",
        " {'href': 'medication-definitions.html#Medication.manufacturer', 'title': 'Medication.manufacturer : Describes the details of the manufacturer.'},\n",
        " {'name': 'Medication.manufacturer'},\n",
        " {'href': 'organization.html'},\n",
        " {'href': 'medication-definitions.html#Medication.kind', 'title': 'Medication.kind : Medications are either a single administrable product or a package that contains one or more products.'},\n",
        " {'name': 'Medication.kind'},\n",
        " {'href': 'datatypes.html#code'},\n",
        " {'href': 'medication-kind.html', 'title': 'Whether the medication is a product or a package'},\n",
        " {'href': 'terminologies.html#required', 'title': 'To be conformant, instances of this element SHALL include a code from the specified value set.'},\n",
        " {'href': 'medication-definitions.html#Medication.product', 'title': 'Medication.product : Information that only applies to products (not packages).'},\n",
        " {'name': 'Medication.product'},\n",
        " {'href': 'element.html'},\n",
        " {'href': 'medication-definitions.html#Medication.product.form', 'title': 'Medication.product.form : Describes the form of the item.  Powder; tables; carton.'},\n",
        " {'name': 'Medication.product.form'},\n",
        " {'href': 'datatypes.html#CodeableConcept'},\n",
        " {'href': 'valueset-medication-form-codes.html', 'title': 'The form of a medication'},\n",
        " {'href': 'terminologies.html#example', 'title': 'Instances are not expected or even encouraged to draw from the specified value set.  The value set merely provides examples of the types of concepts intended to be included.'},\n",
        " {'href': 'medication-definitions.html#Medication.product.ingredient', 'title': 'Medication.product.ingredient : Identifies a particular constituent of interest in the product.'},\n",
        " {'name': 'Medication.product.ingredient'},\n",
        " {'href': 'element.html'},\n",
        " {'href': 'medication-definitions.html#Medication.product.ingredient.item', 'title': 'Medication.product.ingredient.item : The actual ingredient - either a substance (simple ingredient) or another medication.'},\n",
        " {'name': 'Medication.product.ingredient.item'},\n",
        " {'href': 'substance.html'},\n",
        " {'href': 'medication.html'},\n",
        " {'href': 'medication-definitions.html#Medication.product.ingredient.amount', 'title': 'Medication.product.ingredient.amount : Specifies how many (or how much) of the items there are in this Medication.  E.g. 250 mg per tablet.'},\n",
        " {'name': 'Medication.product.ingredient.amount'},\n",
        " {'href': 'datatypes.html#Ratio'},\n",
        " {'href': 'medication-definitions.html#Medication.product.batch', 'title': 'Medication.product.batch : Information about a group of medication produced or packaged from one production run.'},\n",
        " {'name': 'Medication.product.batch'},\n",
        " {'href': 'element.html'},\n",
        " {'href': 'medication-definitions.html#Medication.product.batch.lotNumber', 'title': 'Medication.product.batch.lotNumber : The assigned lot number of a batch of the specified product.'},\n",
        " {'name': 'Medication.product.batch.lotNumber'},\n",
        " {'href': 'datatypes.html#string'},\n",
        " {'href': 'medication-definitions.html#Medication.product.batch.expirationDate', 'title': 'Medication.product.batch.expirationDate : When this specific batch of product will expire.'},\n",
        " {'name': 'Medication.product.batch.expirationDate'},\n",
        " {'href': 'datatypes.html#dateTime'},\n",
        " {'href': 'medication-definitions.html#Medication.package', 'title': 'Medication.package : Information that only applies to packages (not products).'},\n",
        " {'name': 'Medication.package'},\n",
        " {'href': 'element.html'},\n",
        " {'href': 'medication-definitions.html#Medication.package.container', 'title': 'Medication.package.container : The kind of container that this package comes as.'},\n",
        " {'name': 'Medication.package.container'},\n",
        " {'href': 'datatypes.html#CodeableConcept'},\n",
        " {'href': 'valueset-medication-package-form-codes.html', 'title': 'Kind of container a medication package is packaged in'},\n",
        " {'href': 'terminologies.html#example', 'title': 'Instances are not expected or even encouraged to draw from the specified value set.  The value set merely provides examples of the types of concepts intended to be included.'},\n",
        " {'href': 'medication-definitions.html#Medication.package.content', 'title': 'Medication.package.content : A set of components that go to make up the described item.'},\n",
        " {'name': 'Medication.package.content'},\n",
        " {'href': 'element.html'},\n",
        " {'href': 'medication-definitions.html#Medication.package.content.item', 'title': 'Medication.package.content.item : Identifies one of the items in the package.'},\n",
        " {'name': 'Medication.package.content.item'},\n",
        " {'href': 'medication.html'},\n",
        " {'href': 'medication-definitions.html#Medication.package.content.amount', 'title': 'Medication.package.content.amount : The amount of the product that is in the package.'},\n",
        " {'name': 'Medication.package.content.amount'},\n",
        " {'href': 'datatypes.html#Quantity'},\n",
        " {'href': 'medication-definitions.html#Medication', 'class': 'dict', 'title': 'Primarily used for identification and definition of Medication, but also covers ingredients and packaging.'},\n",
        " {'href': 'xml.html', 'title': 'Documentation for this format'},\n",
        " {'href': 'resource.html'},\n",
        " {'href': 'resource.html#id'},\n",
        " {'href': 'resource.html#meta'},\n",
        " {'href': 'resource.html#implicitRules'},\n",
        " {'href': 'resource.html#language'},\n",
        " {'href': 'domainresource.html'},\n",
        " {'href': 'narrative.html#Narrative'},\n",
        " {'href': 'references.html#contained'},\n",
        " {'href': 'extensibility.html'},\n",
        " {'href': 'extensibility.html#modifierExtension'},\n",
        " {'href': 'medication-definitions.html#Medication.name', 'class': 'dict', 'title': 'The common/commercial name of the medication absent information such as strength, form, etc.  E.g. Acetaminophen, Tylenol 3, etc.  The fully coordinated name is communicated as the display of Medication.code.'},\n",
        " {'href': 'datatypes.html#string'},\n",
        " {'href': 'medication-definitions.html#Medication.code', 'class': 'dict', 'title': 'A code (or set of codes) that identify this medication.   Usage note: This could be a standard drug code such as a drug regulator code, RxNorm code, SNOMED CT code, etc. It could also be a local formulary code, optionally with translations to the standard drug codes.'},\n",
        " {'href': 'datatypes.html#CodeableConcept'},\n",
        " {'style': 'color: navy', 'href': 'valueset-medication-codes.html'},\n",
        " {'href': 'medication-definitions.html#Medication.isBrand', 'class': 'dict', 'title': \"Set to true if the item is attributable to a specific manufacturer (even if we don't know who that is).\"},\n",
        " {'href': 'datatypes.html#boolean'},\n",
        " {'href': 'medication-definitions.html#Medication.manufacturer', 'class': 'dict', 'title': 'Describes the details of the manufacturer.'},\n",
        " {'href': 'references.html#Reference'},\n",
        " {'href': 'organization.html#Organization'},\n",
        " {'href': 'medication-definitions.html#Medication.kind', 'class': 'dict', 'title': 'Medications are either a single administrable product or a package that contains one or more products.'},\n",
        " {'href': 'datatypes.html#code'},\n",
        " {'style': 'color: navy', 'href': 'medication-kind.html'},\n",
        " {'href': 'medication-definitions.html#Medication.product', 'class': 'dict', 'title': 'Information that only applies to products (not packages).'},\n",
        " {'href': 'medication-definitions.html#Medication.product.form', 'class': 'dict', 'title': 'Describes the form of the item.  Powder; tables; carton.'},\n",
        " {'href': 'datatypes.html#CodeableConcept'},\n",
        " {'style': 'color: navy', 'href': 'valueset-medication-form-codes.html'},\n",
        " {'href': 'medication-definitions.html#Medication.product.ingredient', 'class': 'dict', 'title': 'Identifies a particular constituent of interest in the product.'},\n",
        " {'href': 'medication-definitions.html#Medication.product.ingredient.item', 'class': 'dict', 'title': 'The actual ingredient - either a substance (simple ingredient) or another medication.'},\n",
        " {'href': 'references.html#Reference'},\n",
        " {'href': 'substance.html#Substance'},\n",
        " {'href': 'medication.html#Medication'},\n",
        " {'href': 'medication-definitions.html#Medication.product.ingredient.amount', 'class': 'dict', 'title': 'Specifies how many (or how much) of the items there are in this Medication.  E.g. 250 mg per tablet.'},\n",
        " {'href': 'datatypes.html#Ratio'},\n",
        " {'href': 'medication-definitions.html#Medication.product.batch', 'class': 'dict', 'title': 'Information about a group of medication produced or packaged from one production run.'},\n",
        " {'href': 'medication-definitions.html#Medication.product.batch.lotNumber', 'class': 'dict', 'title': 'The assigned lot number of a batch of the specified product.'},\n",
        " {'href': 'datatypes.html#string'},\n",
        " {'href': 'medication-definitions.html#Medication.product.batch.expirationDate', 'class': 'dict', 'title': 'When this specific batch of product will expire.'},\n",
        " {'href': 'datatypes.html#dateTime'},\n",
        " {'href': 'medication-definitions.html#Medication.package', 'class': 'dict', 'title': 'Information that only applies to packages (not products).'},\n",
        " {'href': 'medication-definitions.html#Medication.package.container', 'class': 'dict', 'title': 'The kind of container that this package comes as.'},\n",
        " {'href': 'datatypes.html#CodeableConcept'},\n",
        " {'style': 'color: navy', 'href': 'valueset-medication-package-form-codes.html'},\n",
        " {'href': 'medication-definitions.html#Medication.package.content', 'class': 'dict', 'title': 'A set of components that go to make up the described item.'},\n",
        " {'href': 'medication-definitions.html#Medication.package.content.item', 'class': 'dict', 'title': 'Identifies one of the items in the package.'},\n",
        " {'href': 'references.html#Reference'},\n",
        " {'href': 'medication.html#Medication'},\n",
        " {'href': 'medication-definitions.html#Medication.package.content.amount', 'class': 'dict', 'title': 'The amount of the product that is in the package.'},\n",
        " {'href': 'datatypes.html#Quantity'},\n",
        " {'href': 'json.html', 'title': 'Documentation for this format'},\n",
        " {'href': 'medication-definitions.html#Medication', 'class': 'dict', 'title': 'Primarily used for identification and definition of Medication, but also covers ingredients and packaging.'},\n",
        " {'href': 'resource.html'},\n",
        " {'href': 'resource.html#id'},\n",
        " {'href': 'resource.html#meta'},\n",
        " {'href': 'resource.html#implicitRules'},\n",
        " {'href': 'resource.html#language'},\n",
        " {'href': 'domainresource.html'},\n",
        " {'href': 'narrative.html#Narrative'},\n",
        " {'href': 'references.html#contained'},\n",
        " {'href': 'extensibility.html'},\n",
        " {'href': 'extensibility.html#modifierExtension'},\n",
        " {'href': 'medication-definitions.html#Medication.name', 'class': 'dict', 'title': 'The common/commercial name of the medication absent information such as strength, form, etc.  E.g. Acetaminophen, Tylenol 3, etc.  The fully coordinated name is communicated as the display of Medication.code.'},\n",
        " {'href': 'datatypes.html#string'},\n",
        " {'href': 'medication-definitions.html#Medication.code', 'class': 'dict', 'title': 'A code (or set of codes) that identify this medication.   Usage note: This could be a standard drug code such as a drug regulator code, RxNorm code, SNOMED CT code, etc. It could also be a local formulary code, optionally with translations to the standard drug codes.'},\n",
        " {'href': 'datatypes.html#CodeableConcept'},\n",
        " {'style': 'color: navy; opacity: 0.8', 'href': 'valueset-medication-codes.html'},\n",
        " {'href': 'medication-definitions.html#Medication.isBrand', 'class': 'dict', 'title': \"Set to true if the item is attributable to a specific manufacturer (even if we don't know who that is).\"},\n",
        " {'href': 'datatypes.html#boolean'},\n",
        " {'href': 'medication-definitions.html#Medication.manufacturer', 'class': 'dict', 'title': 'Describes the details of the manufacturer.'},\n",
        " {'href': 'references.html#Reference'},\n",
        " {'href': 'organization.html#Organization'},\n",
        " {'href': 'medication-definitions.html#Medication.kind', 'class': 'dict', 'title': 'Medications are either a single administrable product or a package that contains one or more products.'},\n",
        " {'href': 'datatypes.html#code'},\n",
        " {'style': 'color: navy; opacity: 0.8', 'href': 'medication-kind.html'},\n",
        " {'href': 'medication-definitions.html#Medication.product', 'class': 'dict', 'title': 'Information that only applies to products (not packages).'},\n",
        " {'href': 'medication-definitions.html#Medication.product.form', 'class': 'dict', 'title': 'Describes the form of the item.  Powder; tables; carton.'},\n",
        " {'href': 'datatypes.html#CodeableConcept'},\n",
        " {'style': 'color: navy; opacity: 0.8', 'href': 'valueset-medication-form-codes.html'},\n",
        " {'href': 'medication-definitions.html#Medication.product.ingredient', 'class': 'dict', 'title': 'Identifies a particular constituent of interest in the product.'},\n",
        " {'href': 'medication-definitions.html#Medication.product.ingredient.item', 'class': 'dict', 'title': 'The actual ingredient - either a substance (simple ingredient) or another medication.'},\n",
        " {'href': 'references.html#Reference'},\n",
        " {'href': 'substance.html#Substance'},\n",
        " {'href': 'medication.html#Medication'},\n",
        " {'href': 'medication-definitions.html#Medication.product.ingredient.amount', 'class': 'dict', 'title': 'Specifies how many (or how much) of the items there are in this Medication.  E.g. 250 mg per tablet.'},\n",
        " {'href': 'datatypes.html#Ratio'},\n",
        " {'href': 'medication-definitions.html#Medication.product.batch', 'class': 'dict', 'title': 'Information about a group of medication produced or packaged from one production run.'},\n",
        " {'href': 'medication-definitions.html#Medication.product.batch.lotNumber', 'class': 'dict', 'title': 'The assigned lot number of a batch of the specified product.'},\n",
        " {'href': 'datatypes.html#string'},\n",
        " {'href': 'medication-definitions.html#Medication.product.batch.expirationDate', 'class': 'dict', 'title': 'When this specific batch of product will expire.'},\n",
        " {'href': 'datatypes.html#dateTime'},\n",
        " {'href': 'medication-definitions.html#Medication.package', 'class': 'dict', 'title': 'Information that only applies to packages (not products).'},\n",
        " {'href': 'medication-definitions.html#Medication.package.container', 'class': 'dict', 'title': 'The kind of container that this package comes as.'},\n",
        " {'href': 'datatypes.html#CodeableConcept'},\n",
        " {'style': 'color: navy; opacity: 0.8', 'href': 'valueset-medication-package-form-codes.html'},\n",
        " {'href': 'medication-definitions.html#Medication.package.content', 'class': 'dict', 'title': 'A set of components that go to make up the described item.'},\n",
        " {'href': 'medication-definitions.html#Medication.package.content.item', 'class': 'dict', 'title': 'Identifies one of the items in the package.'},\n",
        " {'href': 'references.html#Reference'},\n",
        " {'href': 'medication.html#Medication'},\n",
        " {'href': 'medication-definitions.html#Medication.package.content.amount', 'class': 'dict', 'title': 'The amount of the product that is in the package.'},\n",
        " {'href': 'datatypes.html#Quantity'},\n",
        " {'name': 'tbl'},\n",
        " {'href': 'formats.html#table', 'title': 'The logical name of the element'},\n",
        " {'href': 'formats.html#table', 'title': 'Information about the use of the element'},\n",
        " {'href': 'formats.html#table', 'title': 'Minimum and Maximum # of times the the element can appear in the instance'},\n",
        " {'href': 'formats.html#table', 'title': 'Reference to the type of the element'},\n",
        " {'href': 'formats.html#table', 'title': 'Additional information about the element'},\n",
        " {'href': 'formats.html#table', 'title': 'Legend for this format'},\n",
        " {'href': 'medication-definitions.html#Medication', 'title': 'Medication : Primarily used for identification and definition of Medication, but also covers ingredients and packaging.'},\n",
        " {'name': 'Medication'},\n",
        " {'href': 'domainresource.html'},\n",
        " {'href': 'medication-definitions.html#Medication.name', 'title': 'Medication.name : The common/commercial name of the medication absent information such as strength, form, etc.  E.g. Acetaminophen, Tylenol 3, etc.  The fully coordinated name is communicated as the display of Medication.code.'},\n",
        " {'name': 'Medication.name'},\n",
        " {'href': 'datatypes.html#string'},\n",
        " {'href': 'medication-definitions.html#Medication.code', 'title': 'Medication.code : A code (or set of codes) that identify this medication.   Usage note: This could be a standard drug code such as a drug regulator code, RxNorm code, SNOMED CT code, etc. It could also be a local formulary code, optionally with translations to the standard drug codes.'},\n",
        " {'name': 'Medication.code'},\n",
        " {'href': 'datatypes.html#CodeableConcept'},\n",
        " {'href': 'valueset-medication-codes.html', 'title': 'A code that defines the type of a medication'},\n",
        " {'href': 'terminologies.html#example', 'title': 'Instances are not expected or even encouraged to draw from the specified value set.  The value set merely provides examples of the types of concepts intended to be included.'},\n",
        " {'href': 'medication-definitions.html#Medication.isBrand', 'title': \"Medication.isBrand : Set to true if the item is attributable to a specific manufacturer (even if we don't know who that is).\"},\n",
        " {'name': 'Medication.isBrand'},\n",
        " {'href': 'datatypes.html#boolean'},\n",
        " {'href': 'medication-definitions.html#Medication.manufacturer', 'title': 'Medication.manufacturer : Describes the details of the manufacturer.'},\n",
        " {'name': 'Medication.manufacturer'},\n",
        " {'href': 'organization.html'},\n",
        " {'href': 'medication-definitions.html#Medication.kind', 'title': 'Medication.kind : Medications are either a single administrable product or a package that contains one or more products.'},\n",
        " {'name': 'Medication.kind'},\n",
        " {'href': 'datatypes.html#code'},\n",
        " {'href': 'medication-kind.html', 'title': 'Whether the medication is a product or a package'},\n",
        " {'href': 'terminologies.html#required', 'title': 'To be conformant, instances of this element SHALL include a code from the specified value set.'},\n",
        " {'href': 'medication-definitions.html#Medication.product', 'title': 'Medication.product : Information that only applies to products (not packages).'},\n",
        " {'name': 'Medication.product'},\n",
        " {'href': 'element.html'},\n",
        " {'href': 'medication-definitions.html#Medication.product.form', 'title': 'Medication.product.form : Describes the form of the item.  Powder; tables; carton.'},\n",
        " {'name': 'Medication.product.form'},\n",
        " {'href': 'datatypes.html#CodeableConcept'},\n",
        " {'href': 'valueset-medication-form-codes.html', 'title': 'The form of a medication'},\n",
        " {'href': 'terminologies.html#example', 'title': 'Instances are not expected or even encouraged to draw from the specified value set.  The value set merely provides examples of the types of concepts intended to be included.'},\n",
        " {'href': 'medication-definitions.html#Medication.product.ingredient', 'title': 'Medication.product.ingredient : Identifies a particular constituent of interest in the product.'},\n",
        " {'name': 'Medication.product.ingredient'},\n",
        " {'href': 'element.html'},\n",
        " {'href': 'medication-definitions.html#Medication.product.ingredient.item', 'title': 'Medication.product.ingredient.item : The actual ingredient - either a substance (simple ingredient) or another medication.'},\n",
        " {'name': 'Medication.product.ingredient.item'},\n",
        " {'href': 'substance.html'},\n",
        " {'href': 'medication.html'},\n",
        " {'href': 'medication-definitions.html#Medication.product.ingredient.amount', 'title': 'Medication.product.ingredient.amount : Specifies how many (or how much) of the items there are in this Medication.  E.g. 250 mg per tablet.'},\n",
        " {'name': 'Medication.product.ingredient.amount'},\n",
        " {'href': 'datatypes.html#Ratio'},\n",
        " {'href': 'medication-definitions.html#Medication.product.batch', 'title': 'Medication.product.batch : Information about a group of medication produced or packaged from one production run.'},\n",
        " {'name': 'Medication.product.batch'},\n",
        " {'href': 'element.html'},\n",
        " {'href': 'medication-definitions.html#Medication.product.batch.lotNumber', 'title': 'Medication.product.batch.lotNumber : The assigned lot number of a batch of the specified product.'},\n",
        " {'name': 'Medication.product.batch.lotNumber'},\n",
        " {'href': 'datatypes.html#string'},\n",
        " {'href': 'medication-definitions.html#Medication.product.batch.expirationDate', 'title': 'Medication.product.batch.expirationDate : When this specific batch of product will expire.'},\n",
        " {'name': 'Medication.product.batch.expirationDate'},\n",
        " {'href': 'datatypes.html#dateTime'},\n",
        " {'href': 'medication-definitions.html#Medication.package', 'title': 'Medication.package : Information that only applies to packages (not products).'},\n",
        " {'name': 'Medication.package'},\n",
        " {'href': 'element.html'},\n",
        " {'href': 'medication-definitions.html#Medication.package.container', 'title': 'Medication.package.container : The kind of container that this package comes as.'},\n",
        " {'name': 'Medication.package.container'},\n",
        " {'href': 'datatypes.html#CodeableConcept'},\n",
        " {'href': 'valueset-medication-package-form-codes.html', 'title': 'Kind of container a medication package is packaged in'},\n",
        " {'href': 'terminologies.html#example', 'title': 'Instances are not expected or even encouraged to draw from the specified value set.  The value set merely provides examples of the types of concepts intended to be included.'},\n",
        " {'href': 'medication-definitions.html#Medication.package.content', 'title': 'Medication.package.content : A set of components that go to make up the described item.'},\n",
        " {'name': 'Medication.package.content'},\n",
        " {'href': 'element.html'},\n",
        " {'href': 'medication-definitions.html#Medication.package.content.item', 'title': 'Medication.package.content.item : Identifies one of the items in the package.'},\n",
        " {'name': 'Medication.package.content.item'},\n",
        " {'href': 'medication.html'},\n",
        " {'href': 'medication-definitions.html#Medication.package.content.amount', 'title': 'Medication.package.content.amount : The amount of the product that is in the package.'},\n",
        " {'name': 'Medication.package.content.amount'},\n",
        " {'href': 'datatypes.html#Quantity'},\n",
        " {'name': 'uml'},\n",
        " {'name': 'xml'},\n",
        " {'href': 'medication-definitions.html#Medication', 'class': 'dict', 'title': 'Primarily used for identification and definition of Medication, but also covers ingredients and packaging.'},\n",
        " {'href': 'xml.html', 'title': 'Documentation for this format'},\n",
        " {'href': 'resource.html'},\n",
        " {'href': 'resource.html#id'},\n",
        " {'href': 'resource.html#meta'},\n",
        " {'href': 'resource.html#implicitRules'},\n",
        " {'href': 'resource.html#language'},\n",
        " {'href': 'domainresource.html'},\n",
        " {'href': 'narrative.html#Narrative'},\n",
        " {'href': 'references.html#contained'},\n",
        " {'href': 'extensibility.html'},\n",
        " {'href': 'extensibility.html#modifierExtension'},\n",
        " {'href': 'medication-definitions.html#Medication.name', 'class': 'dict', 'title': 'The common/commercial name of the medication absent information such as strength, form, etc.  E.g. Acetaminophen, Tylenol 3, etc.  The fully coordinated name is communicated as the display of Medication.code.'},\n",
        " {'href': 'datatypes.html#string'},\n",
        " {'href': 'medication-definitions.html#Medication.code', 'class': 'dict', 'title': 'A code (or set of codes) that identify this medication.   Usage note: This could be a standard drug code such as a drug regulator code, RxNorm code, SNOMED CT code, etc. It could also be a local formulary code, optionally with translations to the standard drug codes.'},\n",
        " {'href': 'datatypes.html#CodeableConcept'},\n",
        " {'style': 'color: navy', 'href': 'valueset-medication-codes.html'},\n",
        " {'href': 'medication-definitions.html#Medication.isBrand', 'class': 'dict', 'title': \"Set to true if the item is attributable to a specific manufacturer (even if we don't know who that is).\"},\n",
        " {'href': 'datatypes.html#boolean'},\n",
        " {'href': 'medication-definitions.html#Medication.manufacturer', 'class': 'dict', 'title': 'Describes the details of the manufacturer.'},\n",
        " {'href': 'references.html#Reference'},\n",
        " {'href': 'organization.html#Organization'},\n",
        " {'href': 'medication-definitions.html#Medication.kind', 'class': 'dict', 'title': 'Medications are either a single administrable product or a package that contains one or more products.'},\n",
        " {'href': 'datatypes.html#code'},\n",
        " {'style': 'color: navy', 'href': 'medication-kind.html'},\n",
        " {'href': 'medication-definitions.html#Medication.product', 'class': 'dict', 'title': 'Information that only applies to products (not packages).'},\n",
        " {'href': 'medication-definitions.html#Medication.product.form', 'class': 'dict', 'title': 'Describes the form of the item.  Powder; tables; carton.'},\n",
        " {'href': 'datatypes.html#CodeableConcept'},\n",
        " {'style': 'color: navy', 'href': 'valueset-medication-form-codes.html'},\n",
        " {'href': 'medication-definitions.html#Medication.product.ingredient', 'class': 'dict', 'title': 'Identifies a particular constituent of interest in the product.'},\n",
        " {'href': 'medication-definitions.html#Medication.product.ingredient.item', 'class': 'dict', 'title': 'The actual ingredient - either a substance (simple ingredient) or another medication.'},\n",
        " {'href': 'references.html#Reference'},\n",
        " {'href': 'substance.html#Substance'},\n",
        " {'href': 'medication.html#Medication'},\n",
        " {'href': 'medication-definitions.html#Medication.product.ingredient.amount', 'class': 'dict', 'title': 'Specifies how many (or how much) of the items there are in this Medication.  E.g. 250 mg per tablet.'},\n",
        " {'href': 'datatypes.html#Ratio'},\n",
        " {'href': 'medication-definitions.html#Medication.product.batch', 'class': 'dict', 'title': 'Information about a group of medication produced or packaged from one production run.'},\n",
        " {'href': 'medication-definitions.html#Medication.product.batch.lotNumber', 'class': 'dict', 'title': 'The assigned lot number of a batch of the specified product.'},\n",
        " {'href': 'datatypes.html#string'},\n",
        " {'href': 'medication-definitions.html#Medication.product.batch.expirationDate', 'class': 'dict', 'title': 'When this specific batch of product will expire.'},\n",
        " {'href': 'datatypes.html#dateTime'},\n",
        " {'href': 'medication-definitions.html#Medication.package', 'class': 'dict', 'title': 'Information that only applies to packages (not products).'},\n",
        " {'href': 'medication-definitions.html#Medication.package.container', 'class': 'dict', 'title': 'The kind of container that this package comes as.'},\n",
        " {'href': 'datatypes.html#CodeableConcept'},\n",
        " {'style': 'color: navy', 'href': 'valueset-medication-package-form-codes.html'},\n",
        " {'href': 'medication-definitions.html#Medication.package.content', 'class': 'dict', 'title': 'A set of components that go to make up the described item.'},\n",
        " {'href': 'medication-definitions.html#Medication.package.content.item', 'class': 'dict', 'title': 'Identifies one of the items in the package.'},\n",
        " {'href': 'references.html#Reference'},\n",
        " {'href': 'medication.html#Medication'},\n",
        " {'href': 'medication-definitions.html#Medication.package.content.amount', 'class': 'dict', 'title': 'The amount of the product that is in the package.'},\n",
        " {'href': 'datatypes.html#Quantity'},\n",
        " {'name': 'json'},\n",
        " {'href': 'json.html', 'title': 'Documentation for this format'},\n",
        " {'href': 'medication-definitions.html#Medication', 'class': 'dict', 'title': 'Primarily used for identification and definition of Medication, but also covers ingredients and packaging.'},\n",
        " {'href': 'resource.html'},\n",
        " {'href': 'resource.html#id'},\n",
        " {'href': 'resource.html#meta'},\n",
        " {'href': 'resource.html#implicitRules'},\n",
        " {'href': 'resource.html#language'},\n",
        " {'href': 'domainresource.html'},\n",
        " {'href': 'narrative.html#Narrative'},\n",
        " {'href': 'references.html#contained'},\n",
        " {'href': 'extensibility.html'},\n",
        " {'href': 'extensibility.html#modifierExtension'},\n",
        " {'href': 'medication-definitions.html#Medication.name', 'class': 'dict', 'title': 'The common/commercial name of the medication absent information such as strength, form, etc.  E.g. Acetaminophen, Tylenol 3, etc.  The fully coordinated name is communicated as the display of Medication.code.'},\n",
        " {'href': 'datatypes.html#string'},\n",
        " {'href': 'medication-definitions.html#Medication.code', 'class': 'dict', 'title': 'A code (or set of codes) that identify this medication.   Usage note: This could be a standard drug code such as a drug regulator code, RxNorm code, SNOMED CT code, etc. It could also be a local formulary code, optionally with translations to the standard drug codes.'},\n",
        " {'href': 'datatypes.html#CodeableConcept'},\n",
        " {'style': 'color: navy; opacity: 0.8', 'href': 'valueset-medication-codes.html'},\n",
        " {'href': 'medication-definitions.html#Medication.isBrand', 'class': 'dict', 'title': \"Set to true if the item is attributable to a specific manufacturer (even if we don't know who that is).\"},\n",
        " {'href': 'datatypes.html#boolean'},\n",
        " {'href': 'medication-definitions.html#Medication.manufacturer', 'class': 'dict', 'title': 'Describes the details of the manufacturer.'},\n",
        " {'href': 'references.html#Reference'},\n",
        " {'href': 'organization.html#Organization'},\n",
        " {'href': 'medication-definitions.html#Medication.kind', 'class': 'dict', 'title': 'Medications are either a single administrable product or a package that contains one or more products.'},\n",
        " {'href': 'datatypes.html#code'},\n",
        " {'style': 'color: navy; opacity: 0.8', 'href': 'medication-kind.html'},\n",
        " {'href': 'medication-definitions.html#Medication.product', 'class': 'dict', 'title': 'Information that only applies to products (not packages).'},\n",
        " {'href': 'medication-definitions.html#Medication.product.form', 'class': 'dict', 'title': 'Describes the form of the item.  Powder; tables; carton.'},\n",
        " {'href': 'datatypes.html#CodeableConcept'},\n",
        " {'style': 'color: navy; opacity: 0.8', 'href': 'valueset-medication-form-codes.html'},\n",
        " {'href': 'medication-definitions.html#Medication.product.ingredient', 'class': 'dict', 'title': 'Identifies a particular constituent of interest in the product.'},\n",
        " {'href': 'medication-definitions.html#Medication.product.ingredient.item', 'class': 'dict', 'title': 'The actual ingredient - either a substance (simple ingredient) or another medication.'},\n",
        " {'href': 'references.html#Reference'},\n",
        " {'href': 'substance.html#Substance'},\n",
        " {'href': 'medication.html#Medication'},\n",
        " {'href': 'medication-definitions.html#Medication.product.ingredient.amount', 'class': 'dict', 'title': 'Specifies how many (or how much) of the items there are in this Medication.  E.g. 250 mg per tablet.'},\n",
        " {'href': 'datatypes.html#Ratio'},\n",
        " {'href': 'medication-definitions.html#Medication.product.batch', 'class': 'dict', 'title': 'Information about a group of medication produced or packaged from one production run.'},\n",
        " {'href': 'medication-definitions.html#Medication.product.batch.lotNumber', 'class': 'dict', 'title': 'The assigned lot number of a batch of the specified product.'},\n",
        " {'href': 'datatypes.html#string'},\n",
        " {'href': 'medication-definitions.html#Medication.product.batch.expirationDate', 'class': 'dict', 'title': 'When this specific batch of product will expire.'},\n",
        " {'href': 'datatypes.html#dateTime'},\n",
        " {'href': 'medication-definitions.html#Medication.package', 'class': 'dict', 'title': 'Information that only applies to packages (not products).'},\n",
        " {'href': 'medication-definitions.html#Medication.package.container', 'class': 'dict', 'title': 'The kind of container that this package comes as.'},\n",
        " {'href': 'datatypes.html#CodeableConcept'},\n",
        " {'style': 'color: navy; opacity: 0.8', 'href': 'valueset-medication-package-form-codes.html'},\n",
        " {'href': 'medication-definitions.html#Medication.package.content', 'class': 'dict', 'title': 'A set of components that go to make up the described item.'},\n",
        " {'href': 'medication-definitions.html#Medication.package.content.item', 'class': 'dict', 'title': 'Identifies one of the items in the package.'},\n",
        " {'href': 'references.html#Reference'},\n",
        " {'href': 'medication.html#Medication'},\n",
        " {'href': 'medication-definitions.html#Medication.package.content.amount', 'class': 'dict', 'title': 'The amount of the product that is in the package.'},\n",
        " {'href': 'datatypes.html#Quantity'},\n",
        " {'href': 'medication.xsd'},\n",
        " {'href': 'medication.sch'},\n",
        " {'href': 'medication.profile.xml.html'},\n",
        " {'href': 'medication.profile.json.html'},\n",
        " {'name': 'tx'},\n",
        " {'name': '4.12.2.1'},\n",
        " {'href': 'medication.html#4.12.2.1', 'class': 'self-link', 'title': 'link to here'},\n",
        " {'href': 'terminologies.html#example'},\n",
        " {'href': 'valueset-medication-codes.html'},\n",
        " {'href': 'terminologies.html#required'},\n",
        " {'href': 'medication-kind.html'},\n",
        " {'href': 'terminologies.html#example'},\n",
        " {'href': 'valueset-medication-form-codes.html'},\n",
        " {'href': 'terminologies.html#example'},\n",
        " {'href': 'valueset-medication-package-form-codes.html'},\n",
        " {'name': 'search'},\n",
        " {'name': '4.12.3'},\n",
        " {'href': 'medication.html#4.12.3', 'class': 'self-link', 'title': 'link to here'},\n",
        " {'href': 'search.html#all'},\n",
        " {'href': 'search.html'},\n",
        " {'href': 'search.html#token'},\n",
        " {'href': 'search.html#token'},\n",
        " {'href': 'search.html#reference'},\n",
        " {'href': 'medication.html'},\n",
        " {'href': 'search.html#token'},\n",
        " {'href': 'search.html#reference'},\n",
        " {'href': 'medication.html'},\n",
        " {'href': 'substance.html'},\n",
        " {'href': 'search.html#reference'},\n",
        " {'href': 'organization.html'},\n",
        " {'href': 'search.html#string'},\n",
        " {'style': 'color: #81BEF7', 'href': 'timelines.html'},\n",
        " {'style': 'color: #81BEF7', 'href': 'history.html'},\n",
        " {'style': 'color: #81BEF7', 'href': 'toc.html'},\n",
        " {'style': 'color: #81BEF7', 'href': 'http://services.w3.org/htmldiff?doc1=http%3A%2F%2Fhl7.org%2Fimplement%2Fstandards%2Ffhir%2Fmedication.html&doc2=http%3A%2F%2Fhl7.org%2Ffhir%2FDSTU1%2Fmedication.html'},\n",
        " {'style': 'color: #81BEF7', 'href': 'license.html', 'rel': 'license'},\n",
        " {'style': 'color: #81BEF7', 'href': 'http://gforge.hl7.org/gf/project/fhir/tracker/?action=TrackerItemAdd&tracker_id=677', 'target': '_blank'}]"
       ]
      }
     ],
     "prompt_number": 159
    },
    {
     "cell_type": "code",
     "collapsed": false,
     "input": [
      "import nltk\n",
      "from nltk.tokenize import WhitespaceTokenizer\n",
      "tok = WhitespaceTokenizer()\n",
      "for d in alldocs:\n",
      "    d['text'] = \" \".join(sorted(set(tok.tokenize(d['text']))))"
     ],
     "language": "python",
     "metadata": {},
     "outputs": [],
     "prompt_number": 58
    },
    {
     "cell_type": "code",
     "collapsed": false,
     "input": [
      "alldocs[501]"
     ],
     "language": "python",
     "metadata": {},
     "outputs": [
      {
       "metadata": {},
       "output_type": "pyout",
       "prompt_number": 59,
       "text": [
        "{'text': u\"( (used (v0.5.0-5149) (when ) ). - 14:26+1100. 2.16.840.1.113883.4.642.1.331 2.16.840.1.113883.4.642.2.331 2011+. 2015 3, A Additional An Apr ClinicalDocument: Code Coding Comments Compare Composition.attester.mode DSTU DSTU? Definition Display FHIR FHIR, FHIR. Fri, HL7.org History If In Legal Level Links: Map MeasureReport: Note: OID OID: OIDs Official Personal Professional Propose Required See Set Source Specification StructureDefinition System The Value Version What's a about accepted also and application applies are as assigned authenticated based be but capacity. change code code, codes codes, concept consistent content content. defined defines definition display display, draws each element elsewhere) explanation few for full generated hierarchical how implementers imply in instance) into is its legal level. lists map may meaning no not notes of official on or organization other part person personal policies procedures. professional registry resource responsibility scheme, set sets should simply some source systems terminology that the their there these they this to under use used v3, value with | \\xa9\",\n",
        " 'title': '1.23.2.1.331.1 CompositionAttestationMode ',\n",
        " 'url': 'composition-attestation-mode.html#1.23.2.1.331.1'}"
       ]
      }
     ],
     "prompt_number": 59
    },
    {
     "cell_type": "code",
     "collapsed": false,
     "input": [
      "skipped[0]"
     ],
     "language": "python",
     "metadata": {},
     "outputs": [
      {
       "metadata": {},
       "output_type": "pyout",
       "prompt_number": 30,
       "text": [
        "'./site/extension-iso21090-adxp-careof.html'"
       ]
      }
     ],
     "prompt_number": 30
    },
    {
     "cell_type": "code",
     "collapsed": false,
     "input": [],
     "language": "python",
     "metadata": {},
     "outputs": []
    }
   ],
   "metadata": {}
  }
 ]
}